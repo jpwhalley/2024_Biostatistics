{
 "cells": [
  {
   "cell_type": "markdown",
   "metadata": {},
   "source": [
    "# SGPS BioStatistics\n",
    "## Excercise 2: Getting publically availible data\n",
    "\n",
    "#### Gene Expression data from Gene Expression Omnibus\n",
    "+ https://www.ncbi.nlm.nih.gov/geo/query/acc.cgi?acc=GSE123336\n",
    "\n",
    "#### Specifically from this paper\n",
    "1.\tLaRocca D, Barns S, Hicks SD, Brindle A et al. Comparison of serum and saliva miRNAs for identification and characterization of mTBI in adult mixed martial arts fighters. *PLoS One* 2019;14(1):e0207785.\n"
   ]
  },
  {
   "cell_type": "code",
   "execution_count": null,
   "metadata": {},
   "outputs": [],
   "source": [
    "# Import the packages we need\n",
    "import pandas as pd\n",
    "import numpy as np\n",
    "import GEOparse"
   ]
  },
  {
   "cell_type": "code",
   "execution_count": null,
   "metadata": {},
   "outputs": [],
   "source": [
    "# Get the data in\n",
    "human_expression = pd.read_csv('GSE123336_MMA_CountMatrix.csv.gz', index_col=0, compression='gzip')"
   ]
  },
  {
   "cell_type": "code",
   "execution_count": null,
   "metadata": {},
   "outputs": [],
   "source": [
    "human_expression = human_expression.applymap(lambda x: '{:.2f}'.format(x))\n",
    "human_expression"
   ]
  },
  {
   "cell_type": "code",
   "execution_count": null,
   "metadata": {},
   "outputs": [],
   "source": [
    "# Get the data straight (off the omnibus) - this is only for the genome wide expression\n",
    "gse = GEOparse.get_GEO(geo=\"GSE123336\", destdir=\".\")"
   ]
  },
  {
   "cell_type": "code",
   "execution_count": null,
   "metadata": {},
   "outputs": [],
   "source": [
    "gse.gsms"
   ]
  },
  {
   "cell_type": "code",
   "execution_count": null,
   "metadata": {},
   "outputs": [],
   "source": [
    "gse.gsms['GSM3500956'].metadata"
   ]
  },
  {
   "cell_type": "code",
   "execution_count": null,
   "metadata": {},
   "outputs": [],
   "source": [
    "# And collect the metadata\n",
    "meta = {}\n",
    "for key in gse.gsms:\n",
    "    print(key)\n",
    "    samp = gse.gsms[key].metadata['description'][0]\n",
    "    characteristics = {}\n",
    "    for item in gse.gsms[key].metadata['characteristics_ch1']:\n",
    "        temp = item.split(': ')\n",
    "        characteristics[temp[0]] = temp[1]\n",
    "\n",
    "    if samp not in meta:\n",
    "        meta[samp] = {}\n",
    "        meta[samp] = characteristics\n",
    "    else:\n",
    "        meta[samp] = characteristics\n",
    "\n",
    "metadata = pd.DataFrame(meta).T\n",
    "metadata.to_csv('GSE131695_metadata.csv')"
   ]
  },
  {
   "cell_type": "code",
   "execution_count": null,
   "metadata": {},
   "outputs": [],
   "source": [
    "metadata"
   ]
  },
  {
   "cell_type": "markdown",
   "metadata": {},
   "source": [
    "### How about getting rat data for mTBI?\n",
    "#### Gene Expression data from Gene Expression Omnibus\n",
    "+ https://www.ncbi.nlm.nih.gov/geo/query/acc.cgi?acc=GSE159011\n",
    "\n",
    "#### Specifically from this paper\n",
    "1.\tDas Gupta S, Ciszek R, Heiskanen M, Lapinlampi N et al. Plasma miR-9-3p and miR-136-3p as Potential Novel Diagnostic Biomarkers for Experimental and Human Mild Traumatic Brain Injury. *Int J Mol Sci* 2021 Feb 4;22(4).\n"
   ]
  },
  {
   "cell_type": "code",
   "execution_count": null,
   "metadata": {},
   "outputs": [],
   "source": [
    "rat_expression = pd.read_csv(\"GSE159011_Raw_counts_matrix.txt\", index_col=0, sep='\\t')"
   ]
  },
  {
   "cell_type": "code",
   "execution_count": null,
   "metadata": {},
   "outputs": [],
   "source": [
    "rat_expression"
   ]
  },
  {
   "cell_type": "code",
   "execution_count": null,
   "metadata": {},
   "outputs": [],
   "source": [
    "rat_expression.sum()"
   ]
  },
  {
   "cell_type": "code",
   "execution_count": null,
   "metadata": {},
   "outputs": [],
   "source": [
    "# Normalization\n",
    "# Step 1: Calculate the sum of each column\n",
    "column_sums = rat_expression.sum()\n",
    "\n",
    "# Step 2: Determine the normalization factor to scale each column to sum to 1 million\n",
    "normalization_factor = 1_000_000 / column_sums\n",
    "\n",
    "# Step 3: Multiply each column by its respective normalization factor\n",
    "normalized_df = rat_expression.multiply(normalization_factor, axis=1)\n",
    "\n",
    "# Now each column in `normalized_df` should sum to 1 million\n",
    "normalized_df"
   ]
  },
  {
   "cell_type": "code",
   "execution_count": null,
   "metadata": {},
   "outputs": [],
   "source": []
  }
 ],
 "metadata": {
  "kernelspec": {
   "display_name": "Python 3 (ipykernel)",
   "language": "python",
   "name": "python3"
  },
  "language_info": {
   "codemirror_mode": {
    "name": "ipython",
    "version": 3
   },
   "file_extension": ".py",
   "mimetype": "text/x-python",
   "name": "python",
   "nbconvert_exporter": "python",
   "pygments_lexer": "ipython3",
   "version": "3.10.8"
  }
 },
 "nbformat": 4,
 "nbformat_minor": 4
}
